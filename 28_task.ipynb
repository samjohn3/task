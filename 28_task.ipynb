{
 "cells": [
  {
   "cell_type": "code",
   "execution_count": 1,
   "id": "7194e7ee-882f-4ff8-9e85-fdbcba94258a",
   "metadata": {},
   "outputs": [
    {
     "data": {
      "text/plain": [
       "69"
      ]
     },
     "execution_count": 1,
     "metadata": {},
     "output_type": "execute_result"
    }
   ],
   "source": [
    "num = [10,12,11,13,23]\n",
    "sum(num)"
   ]
  },
  {
   "cell_type": "code",
   "execution_count": 3,
   "id": "2da5e797-0c52-4dce-b3b0-913e0b2c098b",
   "metadata": {},
   "outputs": [
    {
     "name": "stdout",
     "output_type": "stream",
     "text": [
      "69\n"
     ]
    }
   ],
   "source": [
    "num = [10,12,11,13,23]\n",
    "sum = 0\n",
    "for i in num:\n",
    "    sum = sum+i\n",
    "print(sum)"
   ]
  },
  {
   "cell_type": "code",
   "execution_count": 11,
   "id": "473aac28-5ca5-4260-ad63-9900805c4dc0",
   "metadata": {},
   "outputs": [
    {
     "name": "stdout",
     "output_type": "stream",
     "text": [
      "4\n"
     ]
    }
   ],
   "source": [
    "num1 = [5,6,7,56]\n",
    "num = 0\n",
    "for i in num1:\n",
    "    num = num+1\n",
    "print(num)"
   ]
  },
  {
   "cell_type": "code",
   "execution_count": 28,
   "id": "26eb055c-2bd0-462a-8b3c-de506c613f0d",
   "metadata": {},
   "outputs": [
    {
     "name": "stdout",
     "output_type": "stream",
     "text": [
      "[13, 13, 13, 13]\n",
      "[13, 15, 13, 15, 13, 15, 13, 15]\n"
     ]
    }
   ],
   "source": [
    "num3 = [10,12,13,15,16]\n",
    "num = []\n",
    "for i in num3:\n",
    "    if i%2!=0:\n",
    "        num.append(i)\n",
    "        print(num*4)"
   ]
  },
  {
   "cell_type": "code",
   "execution_count": 15,
   "id": "99af1085-1b95-40c7-8380-c54aea562970",
   "metadata": {},
   "outputs": [
    {
     "name": "stdout",
     "output_type": "stream",
     "text": [
      "['ram', 'ragul']\n"
     ]
    }
   ],
   "source": [
    "name = [\"hello\",\"ram\",\"ragul\"]\n",
    "num = []\n",
    "for i in name:\n",
    "    if i.startswith(\"r\"):\n",
    "        num.append(i)\n",
    "print(num)"
   ]
  },
  {
   "cell_type": "code",
   "execution_count": 33,
   "id": "89384e3c-c4ae-400c-9654-763c65aca449",
   "metadata": {},
   "outputs": [
    {
     "name": "stdout",
     "output_type": "stream",
     "text": [
      "5\n",
      "5\n"
     ]
    }
   ],
   "source": [
    "word =\"hello12333\"\n",
    "total = 0\n",
    "count = 0 \n",
    "for i in word:\n",
    "    if i.isalpha():\n",
    "        total = total +1\n",
    "    else:\n",
    "        count = count +1\n",
    "print(total)\n",
    "print(count)"
   ]
  },
  {
   "cell_type": "code",
   "execution_count": 40,
   "id": "9bd2aa01-df52-4d61-9445-abc0b7372cbf",
   "metadata": {},
   "outputs": [
    {
     "name": "stdout",
     "output_type": "stream",
     "text": [
      "57\n"
     ]
    }
   ],
   "source": [
    "m = [11,17,13,14,40]\n",
    "mm = m[1]\n",
    "for i in m:\n",
    "    if i>mm:\n",
    "        mm = mm+ i\n",
    "print(mm)"
   ]
  },
  {
   "cell_type": "code",
   "execution_count": null,
   "id": "7bbbafee-cd90-451a-8f0e-99e8f6339584",
   "metadata": {},
   "outputs": [],
   "source": []
  },
  {
   "cell_type": "code",
   "execution_count": null,
   "id": "a6480742-467e-4adf-820a-76ed8b1ddcee",
   "metadata": {},
   "outputs": [],
   "source": []
  }
 ],
 "metadata": {
  "kernelspec": {
   "display_name": "Python 3 (ipykernel)",
   "language": "python",
   "name": "python3"
  },
  "language_info": {
   "codemirror_mode": {
    "name": "ipython",
    "version": 3
   },
   "file_extension": ".py",
   "mimetype": "text/x-python",
   "name": "python",
   "nbconvert_exporter": "python",
   "pygments_lexer": "ipython3",
   "version": "3.12.7"
  }
 },
 "nbformat": 4,
 "nbformat_minor": 5
}

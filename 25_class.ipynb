{
 "cells": [
  {
   "cell_type": "code",
   "execution_count": 4,
   "id": "1eb0b535-43f0-44d0-a00d-7f9a0bf967f4",
   "metadata": {},
   "outputs": [
    {
     "name": "stdin",
     "output_type": "stream",
     "text": [
      "enter the number: 4\n"
     ]
    },
    {
     "name": "stdout",
     "output_type": "stream",
     "text": [
      "even\n",
      "div by 4\n"
     ]
    }
   ],
   "source": [
    "num = int(input(\"enter the number:\"))\n",
    "if num%2==0:\n",
    "    print(\"even\")\n",
    "    if num%6==0:\n",
    "        print(\"div by 6\")\n",
    "    elif num%4==0:\n",
    "        print(\"div by 4\")\n",
    "    else:\n",
    "        print(\"not div by 6\")\n",
    "else:\n",
    "    print(\"odd\")\n",
    "    if num%5==0:\n",
    "        print(\"div by 5\")\n",
    "    else:\n",
    "        print(\"not div by 5\")"
   ]
  },
  {
   "cell_type": "code",
   "execution_count": 20,
   "id": "1ecffd79-5997-4bf7-99fc-95233297339d",
   "metadata": {},
   "outputs": [
    {
     "name": "stdin",
     "output_type": "stream",
     "text": [
      "enter the season: summer\n",
      "enter the temp value 32\n"
     ]
    },
    {
     "name": "stdout",
     "output_type": "stream",
     "text": [
      "go and play\n"
     ]
    }
   ],
   "source": [
    "season = str(input(\"enter the season:\"))\n",
    "if season==\"summer\":\n",
    "    temp= int(input(\"enter the temp value\"))\n",
    "    if temp>40:\n",
    "        print(\"drink lot of water\")\n",
    "    elif temp>=39 <=31:\n",
    "        print(\"hgghgh\")\n",
    "    else:\n",
    "        print(\"go and play\")\n",
    "elif season == \"winter\":\n",
    "    temp==int(input(\"enter the temp value\"))\n",
    "    if temp>29:\n",
    "        print(\"enjoy the rainy days\")\n",
    "    else:\n",
    "        print(\"take a umberla and drink tea\")\n",
    "else:\n",
    "    print(\"valid season\")"
   ]
  },
  {
   "cell_type": "code",
   "execution_count": 37,
   "id": "fa780396-e042-4a12-a96f-302f50e4fb8c",
   "metadata": {},
   "outputs": [
    {
     "name": "stdin",
     "output_type": "stream",
     "text": [
      "please enter your gender: female\n",
      "please enter your working or not: not\n"
     ]
    },
    {
     "name": "stdout",
     "output_type": "stream",
     "text": [
      "your not eligible\n"
     ]
    }
   ],
   "source": [
    "gym = str(input(\"please enter your gender:\"))\n",
    "if gym==\"male\":\n",
    "    age = int(input(\"enter your Age:\"))\n",
    "    if age >30:\n",
    "        print(\"evening session\")\n",
    "    elif (age>=15 <=30):\n",
    "        print(\"mrng session\")\n",
    "    else:\n",
    "        print(\"your not eligible for gym\")\n",
    "elif gym ==\"female\":\n",
    "    working =str(input(\"please enter your working or not:\"))\n",
    "    if working ==\"yes\":\n",
    "        age =int(input(\"please enter your age:\"))\n",
    "        if age>20:\n",
    "            print(\"your eligible to gym\")\n",
    "        else:\n",
    "            print(\"your not eligible\")\n",
    "    if working ==\"not\":\n",
    "        print(\"your not eligible\")\n",
    "else:\n",
    "    print(\"enter valid statement\")"
   ]
  },
  {
   "cell_type": "code",
   "execution_count": 53,
   "id": "658fab1b-8a75-40dc-8619-4330cf262a61",
   "metadata": {},
   "outputs": [
    {
     "name": "stdin",
     "output_type": "stream",
     "text": [
      "enter your country: fdgd\n",
      "enter the price: 523\n"
     ]
    },
    {
     "name": "stdout",
     "output_type": "stream",
     "text": [
      "tax is 40\n",
      "732.1999999999999\n"
     ]
    }
   ],
   "source": [
    "country = str(input(\"enter your country:\"))\n",
    "price = int(input(\"enter the price:\"))\n",
    "if country ==\"india\":\n",
    "    print(\"tax is 25%\")\n",
    "    total=price*1.25\n",
    "    print(total)\n",
    "elif country == \"uk\" or country == \"england\":\n",
    "    print(\"tax is 30\")\n",
    "    total=price*1.30\n",
    "    print(total)\n",
    "else:\n",
    "    print(\"tax is 40\")\n",
    "    total=price*1.40\n",
    "    print(total)"
   ]
  },
  {
   "cell_type": "code",
   "execution_count": null,
   "id": "acaa6a59-2e77-402e-a682-5a266574f9a7",
   "metadata": {},
   "outputs": [],
   "source": []
  },
  {
   "cell_type": "code",
   "execution_count": null,
   "id": "a5125480-14dc-4b51-8c6b-1001b368969c",
   "metadata": {},
   "outputs": [],
   "source": []
  },
  {
   "cell_type": "code",
   "execution_count": null,
   "id": "c771f989-e2db-45c9-babf-1f807456c38b",
   "metadata": {},
   "outputs": [],
   "source": []
  }
 ],
 "metadata": {
  "kernelspec": {
   "display_name": "Python 3 (ipykernel)",
   "language": "python",
   "name": "python3"
  },
  "language_info": {
   "codemirror_mode": {
    "name": "ipython",
    "version": 3
   },
   "file_extension": ".py",
   "mimetype": "text/x-python",
   "name": "python",
   "nbconvert_exporter": "python",
   "pygments_lexer": "ipython3",
   "version": "3.12.7"
  }
 },
 "nbformat": 4,
 "nbformat_minor": 5
}

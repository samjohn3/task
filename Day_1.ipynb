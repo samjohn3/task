{
 "cells": [
  {
   "cell_type": "code",
   "execution_count": 1,
   "id": "ae0a9177-9311-4e4d-8aad-09e4db88b6e5",
   "metadata": {},
   "outputs": [],
   "source": [
    "#name = \"sla\""
   ]
  },
  {
   "cell_type": "code",
   "execution_count": 2,
   "id": "04396585-c3e2-49ec-9a90-261f9a5d83bf",
   "metadata": {},
   "outputs": [
    {
     "name": "stdout",
     "output_type": "stream",
     "text": [
      "sla\n"
     ]
    }
   ],
   "source": [
    "print(name)"
   ]
  },
  {
   "cell_type": "code",
   "execution_count": 3,
   "id": "51c3c8aa-8c37-442a-89c3-76b5237f3170",
   "metadata": {},
   "outputs": [],
   "source": [
    "course = \"Data Analyst\""
   ]
  },
  {
   "cell_type": "code",
   "execution_count": 4,
   "id": "597fa84c-f35c-45cd-907d-67e7d02e205d",
   "metadata": {},
   "outputs": [
    {
     "name": "stdout",
     "output_type": "stream",
     "text": [
      "Data Analyst\n"
     ]
    }
   ],
   "source": [
    "print(course)"
   ]
  },
  {
   "cell_type": "code",
   "execution_count": 1,
   "id": "dc56e91e-c651-4deb-9a8b-785af19cda70",
   "metadata": {},
   "outputs": [],
   "source": [
    "course = \"Data analyst\""
   ]
  },
  {
   "cell_type": "code",
   "execution_count": 2,
   "id": "a1cc96ed-f01c-4770-8210-f04abd534bc4",
   "metadata": {},
   "outputs": [
    {
     "data": {
      "text/plain": [
       "'ta'"
      ]
     },
     "execution_count": 2,
     "metadata": {},
     "output_type": "execute_result"
    }
   ],
   "source": [
    "course[2:4]"
   ]
  },
  {
   "cell_type": "code",
   "execution_count": 3,
   "id": "21ef988a-0975-4337-b996-f7711180a434",
   "metadata": {},
   "outputs": [
    {
     "data": {
      "text/plain": [
       "'ly'"
      ]
     },
     "execution_count": 3,
     "metadata": {},
     "output_type": "execute_result"
    }
   ],
   "source": [
    "course[-4:-2]"
   ]
  },
  {
   "cell_type": "code",
   "execution_count": 4,
   "id": "3ebb81f2-7754-41ab-bda1-0fcf113f1e9b",
   "metadata": {},
   "outputs": [
    {
     "data": {
      "text/plain": [
       "'yst'"
      ]
     },
     "execution_count": 4,
     "metadata": {},
     "output_type": "execute_result"
    }
   ],
   "source": [
    "#----yst\n",
    "course[-3:]"
   ]
  },
  {
   "cell_type": "code",
   "execution_count": 25,
   "id": "fc198951-6e87-496a-90f8-0e83bf2920eb",
   "metadata": {},
   "outputs": [],
   "source": [
    "name= \"sla123\""
   ]
  },
  {
   "cell_type": "code",
   "execution_count": 26,
   "id": "d63fd18c-393a-46f0-8593-ede82f7f9da1",
   "metadata": {},
   "outputs": [
    {
     "data": {
      "text/plain": [
       "'SLA123'"
      ]
     },
     "execution_count": 26,
     "metadata": {},
     "output_type": "execute_result"
    }
   ],
   "source": [
    "name.upper()"
   ]
  },
  {
   "cell_type": "code",
   "execution_count": 27,
   "id": "3a6b09dc-a81f-4a01-b149-5dd56be780b3",
   "metadata": {},
   "outputs": [
    {
     "data": {
      "text/plain": [
       "'sla123'"
      ]
     },
     "execution_count": 27,
     "metadata": {},
     "output_type": "execute_result"
    }
   ],
   "source": [
    "name.lower()"
   ]
  },
  {
   "cell_type": "code",
   "execution_count": 15,
   "id": "4361ad21-eed5-4491-a351-9375f27c2766",
   "metadata": {},
   "outputs": [
    {
     "data": {
      "text/plain": [
       "'Sla'"
      ]
     },
     "execution_count": 15,
     "metadata": {},
     "output_type": "execute_result"
    }
   ],
   "source": [
    "name.capitalize()"
   ]
  },
  {
   "cell_type": "code",
   "execution_count": 28,
   "id": "efb01611-af09-42f8-abab-605a8af392b5",
   "metadata": {},
   "outputs": [
    {
     "data": {
      "text/plain": [
       "True"
      ]
     },
     "execution_count": 28,
     "metadata": {},
     "output_type": "execute_result"
    }
   ],
   "source": [
    "name.startswith(\"s\")"
   ]
  },
  {
   "cell_type": "code",
   "execution_count": 29,
   "id": "f3561910-e920-4cd8-b5cf-dc07ce0f8367",
   "metadata": {},
   "outputs": [
    {
     "data": {
      "text/plain": [
       "False"
      ]
     },
     "execution_count": 29,
     "metadata": {},
     "output_type": "execute_result"
    }
   ],
   "source": [
    "name.endswith(\"f\")"
   ]
  },
  {
   "cell_type": "code",
   "execution_count": 34,
   "id": "9f76bc8f-ac27-40d8-a323-8988d1da043c",
   "metadata": {},
   "outputs": [
    {
     "data": {
      "text/plain": [
       "True"
      ]
     },
     "execution_count": 34,
     "metadata": {},
     "output_type": "execute_result"
    }
   ],
   "source": [
    "name.endswith(\"3\")"
   ]
  },
  {
   "cell_type": "code",
   "execution_count": 31,
   "id": "449b6f0f-37a1-4c24-b737-519179fd4e71",
   "metadata": {},
   "outputs": [
    {
     "data": {
      "text/plain": [
       "False"
      ]
     },
     "execution_count": 31,
     "metadata": {},
     "output_type": "execute_result"
    }
   ],
   "source": [
    "# isalpha  isdigit\n",
    "name.isalpha()"
   ]
  },
  {
   "cell_type": "code",
   "execution_count": 32,
   "id": "ee58dce9-866b-4834-99e3-0fc73d6d8a15",
   "metadata": {},
   "outputs": [
    {
     "data": {
      "text/plain": [
       "False"
      ]
     },
     "execution_count": 32,
     "metadata": {},
     "output_type": "execute_result"
    }
   ],
   "source": [
    "name.isdigit()"
   ]
  },
  {
   "cell_type": "code",
   "execution_count": 35,
   "id": "0210464a-aad5-401b-b184-eef876b42e05",
   "metadata": {},
   "outputs": [],
   "source": [
    "name1=\"12334s\""
   ]
  },
  {
   "cell_type": "code",
   "execution_count": 36,
   "id": "37114b3b-d2ab-40c7-93e2-b1eac160f4f7",
   "metadata": {},
   "outputs": [
    {
     "data": {
      "text/plain": [
       "False"
      ]
     },
     "execution_count": 36,
     "metadata": {},
     "output_type": "execute_result"
    }
   ],
   "source": [
    "name1.isdigit()"
   ]
  },
  {
   "cell_type": "code",
   "execution_count": 42,
   "id": "d1af7b00-e894-469a-816a-eecc68a91416",
   "metadata": {},
   "outputs": [],
   "source": [
    "name2=\"123456\""
   ]
  },
  {
   "cell_type": "code",
   "execution_count": 43,
   "id": "fb3901cc-1e19-454b-aaf2-3bdb5aa6c7dc",
   "metadata": {},
   "outputs": [
    {
     "data": {
      "text/plain": [
       "True"
      ]
     },
     "execution_count": 43,
     "metadata": {},
     "output_type": "execute_result"
    }
   ],
   "source": [
    "name2.isdigit()"
   ]
  },
  {
   "cell_type": "code",
   "execution_count": 39,
   "id": "df6df21a-64f9-42f2-bd2c-11c4a9762b24",
   "metadata": {},
   "outputs": [
    {
     "data": {
      "text/plain": [
       "False"
      ]
     },
     "execution_count": 39,
     "metadata": {},
     "output_type": "execute_result"
    }
   ],
   "source": [
    "name2.isalpha()"
   ]
  },
  {
   "cell_type": "code",
   "execution_count": 44,
   "id": "c76aade2-cc4c-4caa-bc7b-ddaee83ffdb8",
   "metadata": {},
   "outputs": [],
   "source": [
    "# strip------lstrip---&----rstrip\n",
    "name3 = \"    sla   \"\n"
   ]
  },
  {
   "cell_type": "code",
   "execution_count": 46,
   "id": "353fe17e-e705-448a-a448-62f15ead67c8",
   "metadata": {},
   "outputs": [
    {
     "data": {
      "text/plain": [
       "'sla'"
      ]
     },
     "execution_count": 46,
     "metadata": {},
     "output_type": "execute_result"
    }
   ],
   "source": [
    "name3.strip()"
   ]
  },
  {
   "cell_type": "code",
   "execution_count": 50,
   "id": "31703e68-1e70-49d1-b958-f53870abdbe6",
   "metadata": {},
   "outputs": [
    {
     "data": {
      "text/plain": [
       "'sla   '"
      ]
     },
     "execution_count": 50,
     "metadata": {},
     "output_type": "execute_result"
    }
   ],
   "source": [
    "#lstrip--\n",
    "name3.lstrip()"
   ]
  },
  {
   "cell_type": "code",
   "execution_count": 51,
   "id": "7c42508a-351d-4543-a0b7-d7aa323563a9",
   "metadata": {},
   "outputs": [
    {
     "data": {
      "text/plain": [
       "'    sla'"
      ]
     },
     "execution_count": 51,
     "metadata": {},
     "output_type": "execute_result"
    }
   ],
   "source": [
    "#rstrip\n",
    "name3.rstrip()"
   ]
  },
  {
   "cell_type": "code",
   "execution_count": 54,
   "id": "818283d1-fc01-46e3-81f2-aa0e001ca32d",
   "metadata": {},
   "outputs": [],
   "source": [
    "#title\n",
    "sent1 = \"python is easy\""
   ]
  },
  {
   "cell_type": "code",
   "execution_count": 55,
   "id": "edaff366-06b1-4192-ba17-e017645b64cc",
   "metadata": {},
   "outputs": [
    {
     "data": {
      "text/plain": [
       "'Python Is Easy'"
      ]
     },
     "execution_count": 55,
     "metadata": {},
     "output_type": "execute_result"
    }
   ],
   "source": [
    "sent1.title()"
   ]
  },
  {
   "cell_type": "code",
   "execution_count": 57,
   "id": "c68431e1-0b8a-4882-9fe5-3700431d6f24",
   "metadata": {},
   "outputs": [],
   "source": [
    "#replace\n",
    "sent1=sent1.replace(\"python\",\"data\")"
   ]
  },
  {
   "cell_type": "code",
   "execution_count": 58,
   "id": "d09bce8e-4365-4265-a88c-5d5201997ddf",
   "metadata": {},
   "outputs": [
    {
     "data": {
      "text/plain": [
       "'data is easy'"
      ]
     },
     "execution_count": 58,
     "metadata": {},
     "output_type": "execute_result"
    }
   ],
   "source": [
    "sent1"
   ]
  },
  {
   "cell_type": "code",
   "execution_count": 59,
   "id": "e522f2bc-ceb6-4309-bf66-83a1433ed697",
   "metadata": {},
   "outputs": [],
   "source": [
    "sent1=sent1.replace(\"data\",\"java\")"
   ]
  },
  {
   "cell_type": "code",
   "execution_count": 60,
   "id": "979caf10-5e61-4017-aa65-cb907ba25fb5",
   "metadata": {},
   "outputs": [
    {
     "data": {
      "text/plain": [
       "'java is easy'"
      ]
     },
     "execution_count": 60,
     "metadata": {},
     "output_type": "execute_result"
    }
   ],
   "source": [
    "sent1"
   ]
  },
  {
   "cell_type": "code",
   "execution_count": 65,
   "id": "3f0ff63b-ab7c-4cc3-a2ac-d77d3d094a4a",
   "metadata": {},
   "outputs": [],
   "source": [
    "num = [12,34,42,53,12,25]"
   ]
  },
  {
   "cell_type": "code",
   "execution_count": 66,
   "id": "1afaef91-3ae6-4603-a5d1-8eb0ec7f23aa",
   "metadata": {},
   "outputs": [
    {
     "name": "stdout",
     "output_type": "stream",
     "text": [
      "<class 'list'>\n"
     ]
    }
   ],
   "source": [
    "print(type(num))"
   ]
  },
  {
   "cell_type": "code",
   "execution_count": 67,
   "id": "b5f41c6d-e73f-49fc-941b-270d5173fbf9",
   "metadata": {},
   "outputs": [
    {
     "data": {
      "text/plain": [
       "[12, 34, 42, 53, 12, 25]"
      ]
     },
     "execution_count": 67,
     "metadata": {},
     "output_type": "execute_result"
    }
   ],
   "source": [
    "num"
   ]
  },
  {
   "cell_type": "code",
   "execution_count": 75,
   "id": "b7549153-45fe-4627-abe2-4213dc668808",
   "metadata": {},
   "outputs": [],
   "source": [
    "num=[12,34,42,53,12,25,\"sla\",3.4,22]"
   ]
  },
  {
   "cell_type": "code",
   "execution_count": 76,
   "id": "ab3887ea-60b6-4f03-aab9-a86286b8065a",
   "metadata": {},
   "outputs": [
    {
     "data": {
      "text/plain": [
       "[12, 34, 42, 53, 12, 25, 'sla', 3.4, 22]"
      ]
     },
     "execution_count": 76,
     "metadata": {},
     "output_type": "execute_result"
    }
   ],
   "source": [
    "#mutable--because add and remove in list----list allow duplicate----and also ordered\n",
    "num"
   ]
  },
  {
   "cell_type": "code",
   "execution_count": 77,
   "id": "fe81ebd5-f2e9-4487-a46f-db96222de05e",
   "metadata": {},
   "outputs": [],
   "source": [
    "sla = \"soft logic\""
   ]
  },
  {
   "cell_type": "code",
   "execution_count": 78,
   "id": "3d471dd4-33b7-4b2d-9e03-faac04e71b01",
   "metadata": {},
   "outputs": [
    {
     "data": {
      "text/plain": [
       "'t '"
      ]
     },
     "execution_count": 78,
     "metadata": {},
     "output_type": "execute_result"
    }
   ],
   "source": [
    "sla[3:5]"
   ]
  },
  {
   "cell_type": "code",
   "execution_count": 79,
   "id": "7064dd69-3a3b-41a5-80a5-25e18afe860d",
   "metadata": {},
   "outputs": [
    {
     "data": {
      "text/plain": [
       "'t l'"
      ]
     },
     "execution_count": 79,
     "metadata": {},
     "output_type": "execute_result"
    }
   ],
   "source": [
    "sla[3:6]"
   ]
  },
  {
   "cell_type": "code",
   "execution_count": 80,
   "id": "9e896b0f-1157-4ae2-b221-a82fc7bc7a70",
   "metadata": {},
   "outputs": [
    {
     "data": {
      "text/plain": [
       "' log'"
      ]
     },
     "execution_count": 80,
     "metadata": {},
     "output_type": "execute_result"
    }
   ],
   "source": [
    "sla[4:8]"
   ]
  },
  {
   "cell_type": "code",
   "execution_count": 81,
   "id": "33de7e77-7c54-4fbf-b953-99c2d531c017",
   "metadata": {},
   "outputs": [],
   "source": [
    "#append\n",
    "num.append(100)"
   ]
  },
  {
   "cell_type": "code",
   "execution_count": 82,
   "id": "00d07ede-1fb4-4355-8eea-49079e6d000a",
   "metadata": {},
   "outputs": [
    {
     "data": {
      "text/plain": [
       "[12, 34, 42, 53, 12, 25, 'sla', 3.4, 22, 100]"
      ]
     },
     "execution_count": 82,
     "metadata": {},
     "output_type": "execute_result"
    }
   ],
   "source": [
    "num"
   ]
  },
  {
   "cell_type": "code",
   "execution_count": 83,
   "id": "1e2791ae-4266-472a-9657-cba24b8a1b6e",
   "metadata": {},
   "outputs": [],
   "source": [
    "num.extend([143,124])"
   ]
  },
  {
   "cell_type": "code",
   "execution_count": 84,
   "id": "2b7cd551-37e3-4e85-80fa-e7e49ab56922",
   "metadata": {},
   "outputs": [
    {
     "data": {
      "text/plain": [
       "[12, 34, 42, 53, 12, 25, 'sla', 3.4, 22, 100, 143, 124]"
      ]
     },
     "execution_count": 84,
     "metadata": {},
     "output_type": "execute_result"
    }
   ],
   "source": [
    "num"
   ]
  },
  {
   "cell_type": "code",
   "execution_count": 86,
   "id": "a38df373-bd66-4882-b949-da8a7ea005d0",
   "metadata": {},
   "outputs": [],
   "source": [
    "num.extend([122])"
   ]
  },
  {
   "cell_type": "markdown",
   "id": "b4b9bf69-48d3-46e8-bd88-99cbbabab792",
   "metadata": {},
   "source": [
    "num"
   ]
  },
  {
   "cell_type": "code",
   "execution_count": 87,
   "id": "229bd91f-26ef-49c1-8f98-3f000b93e5cb",
   "metadata": {},
   "outputs": [
    {
     "data": {
      "text/plain": [
       "[12, 34, 42, 53, 12, 25, 'sla', 3.4, 22, 100, 143, 124, 122]"
      ]
     },
     "execution_count": 87,
     "metadata": {},
     "output_type": "execute_result"
    }
   ],
   "source": [
    "num"
   ]
  },
  {
   "cell_type": "code",
   "execution_count": 90,
   "id": "93104d17-4910-46e0-af20-f59a60780bdf",
   "metadata": {},
   "outputs": [],
   "source": [
    "course=[\"python\",\"powerbi\"]"
   ]
  },
  {
   "cell_type": "code",
   "execution_count": 91,
   "id": "b6e43b53-0499-4897-817f-04a1a96c477b",
   "metadata": {},
   "outputs": [],
   "source": [
    "course.insert(1,\"sql\")"
   ]
  },
  {
   "cell_type": "code",
   "execution_count": 92,
   "id": "e2ce6c4a-cc0d-4e2f-8ac0-1e45ffea64ba",
   "metadata": {},
   "outputs": [
    {
     "data": {
      "text/plain": [
       "['python', 'sql', 'powerbi']"
      ]
     },
     "execution_count": 92,
     "metadata": {},
     "output_type": "execute_result"
    }
   ],
   "source": [
    "course"
   ]
  },
  {
   "cell_type": "code",
   "execution_count": 93,
   "id": "9f34a53d-1cd5-41df-a499-2318c00874e5",
   "metadata": {},
   "outputs": [],
   "source": [
    "course.insert(3,\"AI&DS\")"
   ]
  },
  {
   "cell_type": "code",
   "execution_count": 94,
   "id": "0b4adcae-83db-4538-bfa1-aa6889ab150f",
   "metadata": {},
   "outputs": [
    {
     "data": {
      "text/plain": [
       "['python', 'sql', 'powerbi', 'AI&DS']"
      ]
     },
     "execution_count": 94,
     "metadata": {},
     "output_type": "execute_result"
    }
   ],
   "source": [
    "course"
   ]
  },
  {
   "cell_type": "code",
   "execution_count": 95,
   "id": "f389ce60-dc3b-4b1e-92d2-094d39a0a99e",
   "metadata": {},
   "outputs": [],
   "source": [
    "course.insert(4,\"ML\")"
   ]
  },
  {
   "cell_type": "code",
   "execution_count": 96,
   "id": "51b5837f-0d33-48b7-ba17-8cf532913e4e",
   "metadata": {},
   "outputs": [
    {
     "data": {
      "text/plain": [
       "['python', 'sql', 'powerbi', 'AI&DS', 'ML']"
      ]
     },
     "execution_count": 96,
     "metadata": {},
     "output_type": "execute_result"
    }
   ],
   "source": [
    "course"
   ]
  },
  {
   "cell_type": "code",
   "execution_count": 101,
   "id": "e2dc62b3-ea57-41fa-966f-67c67bcac808",
   "metadata": {},
   "outputs": [],
   "source": [
    "#remove\n",
    "course.remove(\"sql\")"
   ]
  },
  {
   "cell_type": "code",
   "execution_count": 102,
   "id": "675d39ab-3497-418f-9ac3-c9ee5f9c91e4",
   "metadata": {},
   "outputs": [
    {
     "data": {
      "text/plain": [
       "['python', 'powerbi', 'AI&DS']"
      ]
     },
     "execution_count": 102,
     "metadata": {},
     "output_type": "execute_result"
    }
   ],
   "source": [
    "course"
   ]
  },
  {
   "cell_type": "code",
   "execution_count": 103,
   "id": "8419c6cd-3a15-4300-b126-804dfaafce39",
   "metadata": {},
   "outputs": [
    {
     "data": {
      "text/plain": [
       "'AI&DS'"
      ]
     },
     "execution_count": 103,
     "metadata": {},
     "output_type": "execute_result"
    }
   ],
   "source": [
    "course.pop(2)"
   ]
  },
  {
   "cell_type": "code",
   "execution_count": 105,
   "id": "1330e3cc-50ba-44f3-b928-fb3dc822f6cf",
   "metadata": {},
   "outputs": [
    {
     "data": {
      "text/plain": [
       "'powerbi'"
      ]
     },
     "execution_count": 105,
     "metadata": {},
     "output_type": "execute_result"
    }
   ],
   "source": [
    "course.pop()"
   ]
  },
  {
   "cell_type": "code",
   "execution_count": 106,
   "id": "453fe799-6686-40fb-b80a-b32504e2d438",
   "metadata": {},
   "outputs": [
    {
     "data": {
      "text/plain": [
       "['python']"
      ]
     },
     "execution_count": 106,
     "metadata": {},
     "output_type": "execute_result"
    }
   ],
   "source": [
    "course"
   ]
  },
  {
   "cell_type": "code",
   "execution_count": 107,
   "id": "7efb9fa6-1d54-4ac0-adc7-155e30f962cd",
   "metadata": {},
   "outputs": [],
   "source": [
    "course.clear()"
   ]
  },
  {
   "cell_type": "code",
   "execution_count": 108,
   "id": "d9653787-e29e-4df3-9e1b-2cefe8368c6d",
   "metadata": {},
   "outputs": [
    {
     "data": {
      "text/plain": [
       "[]"
      ]
     },
     "execution_count": 108,
     "metadata": {},
     "output_type": "execute_result"
    }
   ],
   "source": [
    "course"
   ]
  },
  {
   "cell_type": "code",
   "execution_count": 109,
   "id": "8c8df09c-b7c9-4bae-aa05-3c6f7c985ba8",
   "metadata": {},
   "outputs": [],
   "source": [
    "course=[\"nfovnodfbpo\",\"onvoidfnbindfiob\",\"nvijndfojniofdnb\",\"nenonbio\"]"
   ]
  },
  {
   "cell_type": "code",
   "execution_count": 110,
   "id": "5e4cb2fe-bd15-41bc-998c-ef9768d6d15c",
   "metadata": {},
   "outputs": [],
   "source": [
    "course.clear()"
   ]
  },
  {
   "cell_type": "code",
   "execution_count": 111,
   "id": "1e8cabe8-6aa9-4b99-b114-a2de0236ba37",
   "metadata": {},
   "outputs": [
    {
     "data": {
      "text/plain": [
       "[]"
      ]
     },
     "execution_count": 111,
     "metadata": {},
     "output_type": "execute_result"
    }
   ],
   "source": [
    "course"
   ]
  },
  {
   "cell_type": "code",
   "execution_count": null,
   "id": "ce04418b-e27d-4379-ba4e-1c6731f6e5c3",
   "metadata": {},
   "outputs": [],
   "source": []
  }
 ],
 "metadata": {
  "kernelspec": {
   "display_name": "Python 3 (ipykernel)",
   "language": "python",
   "name": "python3"
  },
  "language_info": {
   "codemirror_mode": {
    "name": "ipython",
    "version": 3
   },
   "file_extension": ".py",
   "mimetype": "text/x-python",
   "name": "python",
   "nbconvert_exporter": "python",
   "pygments_lexer": "ipython3",
   "version": "3.12.7"
  }
 },
 "nbformat": 4,
 "nbformat_minor": 5
}

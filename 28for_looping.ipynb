{
 "cells": [
  {
   "cell_type": "code",
   "execution_count": 3,
   "id": "62e8320a-ef09-4bcc-aa21-97d3284a59ee",
   "metadata": {},
   "outputs": [
    {
     "name": "stdout",
     "output_type": "stream",
     "text": [
      "10\n",
      "12\n"
     ]
    }
   ],
   "source": [
    "#i need even number in looping\n",
    "num =[10,13,12,15]\n",
    "for i in num:\n",
    "    if i%2==0:\n",
    "        print(i)"
   ]
  },
  {
   "cell_type": "code",
   "execution_count": 6,
   "id": "6619e225-ed87-4519-a2fc-fea04b6fde53",
   "metadata": {},
   "outputs": [
    {
     "name": "stdout",
     "output_type": "stream",
     "text": [
      "10\n",
      "odd\n",
      "1232\n",
      "odd\n"
     ]
    }
   ],
   "source": [
    "num =[10,13,1232,3243]\n",
    "for i in num:\n",
    "    if i%2==0:\n",
    "        print(i)\n",
    "    else:\n",
    "        print(\"odd\")"
   ]
  },
  {
   "cell_type": "code",
   "execution_count": 16,
   "id": "694965f5-5390-4541-bd76-bf40dd4928bc",
   "metadata": {},
   "outputs": [
    {
     "name": "stdout",
     "output_type": "stream",
     "text": [
      "[10]\n",
      "[10, 12]\n",
      "[10, 12, 14]\n",
      "[10, 12, 14, 2]\n",
      "[10, 12, 14, 2, 6]\n"
     ]
    }
   ],
   "source": [
    "num =[10,12,13,14,2,5,6,7]\n",
    "ans=[]\n",
    "for i in num:\n",
    "    if i%2==0:\n",
    "        ans.append(i)\n",
    "        print(ans)\n",
    "        "
   ]
  },
  {
   "cell_type": "code",
   "execution_count": 20,
   "id": "f0c89f86-9355-4ad5-9dd3-c4e12fb49e17",
   "metadata": {},
   "outputs": [
    {
     "name": "stdout",
     "output_type": "stream",
     "text": [
      "[10, 12, 14, 2, 6]\n"
     ]
    }
   ],
   "source": [
    "num =[10,12,13,14,2,5,6,7]\n",
    "ans =[]\n",
    "for i in num:\n",
    "    if i%2==0:\n",
    "        ans.append(i)\n",
    "print(ans)"
   ]
  },
  {
   "cell_type": "code",
   "execution_count": 26,
   "id": "740c5eae-a0ce-4fc6-8c86-c3e379fa2c9a",
   "metadata": {},
   "outputs": [
    {
     "name": "stdout",
     "output_type": "stream",
     "text": [
      "[125, 45, 5, 45]\n"
     ]
    }
   ],
   "source": [
    "num = [125,45,34,5,45,232]\n",
    "ans =[]\n",
    "for i in num:\n",
    "    if i%5==0:\n",
    "        ans.append(i)\n",
    "print(ans)"
   ]
  },
  {
   "cell_type": "code",
   "execution_count": 29,
   "id": "7554ef84-8f08-461f-9b22-1adf80a9e724",
   "metadata": {},
   "outputs": [
    {
     "name": "stdout",
     "output_type": "stream",
     "text": [
      "60\n"
     ]
    }
   ],
   "source": [
    "num = [10,20,30]\n",
    "total = 0\n",
    "for i in num:\n",
    "    total = total+i\n",
    "print(total)"
   ]
  },
  {
   "cell_type": "code",
   "execution_count": 30,
   "id": "e6f4c426-248a-4e24-93ff-c1d9955f4168",
   "metadata": {},
   "outputs": [
    {
     "data": {
      "text/plain": [
       "60"
      ]
     },
     "execution_count": 30,
     "metadata": {},
     "output_type": "execute_result"
    }
   ],
   "source": [
    "#alternative method\n",
    "num = [10,20,30]\n",
    "sum(num)"
   ]
  },
  {
   "cell_type": "code",
   "execution_count": 32,
   "id": "8b238325-8132-4c06-9664-1ed13598aad1",
   "metadata": {},
   "outputs": [
    {
     "name": "stdout",
     "output_type": "stream",
     "text": [
      "64\n"
     ]
    }
   ],
   "source": [
    "#sum of even num\n",
    "num = [10,13,14,15,18,22]\n",
    "tot = 0\n",
    "for j in num:\n",
    "    if j%2==0:\n",
    "        tot = tot+j\n",
    "print(tot)"
   ]
  },
  {
   "cell_type": "code",
   "execution_count": 38,
   "id": "dd11327e-a5e3-455e-bcaf-e5f2155faf7e",
   "metadata": {},
   "outputs": [
    {
     "name": "stdout",
     "output_type": "stream",
     "text": [
      "6\n"
     ]
    }
   ],
   "source": [
    "num = [10,13,14,15,18,22]\n",
    "s=0\n",
    "for i in num:\n",
    "    s = s+1\n",
    "print(s)"
   ]
  },
  {
   "cell_type": "code",
   "execution_count": 40,
   "id": "455076c8-4b0c-44fb-9e5b-5a1828fcf3e0",
   "metadata": {},
   "outputs": [
    {
     "name": "stdout",
     "output_type": "stream",
     "text": [
      "2\n",
      "3\n"
     ]
    }
   ],
   "source": [
    "#i need sum of even numbers and count the odd numbers\n",
    "sent= [10,12,33,25,13]\n",
    "total=0\n",
    "count=0\n",
    "for i in sent:\n",
    "    if i %2==0:\n",
    "        total=total+1\n",
    "    else:\n",
    "        count=count+1\n",
    "print(total)\n",
    "print(count)"
   ]
  },
  {
   "cell_type": "code",
   "execution_count": 41,
   "id": "5e6165fe-d399-4fb9-b549-5ceba4bbd05e",
   "metadata": {},
   "outputs": [
    {
     "name": "stdout",
     "output_type": "stream",
     "text": [
      "2\n",
      "3\n"
     ]
    }
   ],
   "source": [
    "sent= [10,12,33,25,13]\n",
    "total = 0\n",
    "count = 0\n",
    "for i in sent :\n",
    "    if i%2==0:\n",
    "        total = total+1\n",
    "    else:\n",
    "        count = count+1\n",
    "print(total)\n",
    "print(count)"
   ]
  },
  {
   "cell_type": "code",
   "execution_count": 51,
   "id": "dd38e176-721b-4dd0-8df5-4acc654d2dc0",
   "metadata": {},
   "outputs": [
    {
     "name": "stdout",
     "output_type": "stream",
     "text": [
      "['sam']\n"
     ]
    }
   ],
   "source": [
    "name = [\"abi\",\"mukesh\",\"sam\",\"akash\",\"aravind\"]\n",
    "new = []\n",
    "for i in name:\n",
    "    if i.startswith(\"s\"):\n",
    "      new.append(i)\n",
    "print(new)"
   ]
  },
  {
   "cell_type": "code",
   "execution_count": 62,
   "id": "1303b097-78b3-4cae-9c39-8f5098026cd8",
   "metadata": {},
   "outputs": [
    {
     "name": "stdout",
     "output_type": "stream",
     "text": [
      "5\n"
     ]
    }
   ],
   "source": [
    "word = \"hello123\"\n",
    "new =0\n",
    "for i in word:\n",
    "    if i.isalpha():\n",
    "        new = new+1\n",
    "print(new)"
   ]
  },
  {
   "cell_type": "code",
   "execution_count": 85,
   "id": "8d0f73a7-f9cb-4d50-a9df-ee84c61610de",
   "metadata": {},
   "outputs": [
    {
     "name": "stdout",
     "output_type": "stream",
     "text": [
      "22\n"
     ]
    }
   ],
   "source": [
    "# max number\n",
    "num = [10,17,13,22]\n",
    "greater_num =num[1]\n",
    "for i in num:\n",
    "    if i>greater_num:\n",
    "          greater_num = i\n",
    "print(greater_num)"
   ]
  },
  {
   "cell_type": "code",
   "execution_count": 87,
   "id": "d1fe22a0-0bff-4d26-b94c-de26c3ae1c5c",
   "metadata": {},
   "outputs": [
    {
     "name": "stdout",
     "output_type": "stream",
     "text": [
      "10\n"
     ]
    }
   ],
   "source": [
    "# small number\n",
    "num = [10,17,13,22]\n",
    "s_n = num[0]\n",
    "for i in num:\n",
    "    if i<s_n:\n",
    "        s_n=i\n",
    "print(s_n)"
   ]
  },
  {
   "cell_type": "code",
   "execution_count": null,
   "id": "d2c7ea35-f724-4d61-a9f3-272b68f25cfd",
   "metadata": {},
   "outputs": [],
   "source": []
  }
 ],
 "metadata": {
  "kernelspec": {
   "display_name": "Python 3 (ipykernel)",
   "language": "python",
   "name": "python3"
  },
  "language_info": {
   "codemirror_mode": {
    "name": "ipython",
    "version": 3
   },
   "file_extension": ".py",
   "mimetype": "text/x-python",
   "name": "python",
   "nbconvert_exporter": "python",
   "pygments_lexer": "ipython3",
   "version": "3.12.7"
  }
 },
 "nbformat": 4,
 "nbformat_minor": 5
}

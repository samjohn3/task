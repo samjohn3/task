{
 "cells": [
  {
   "cell_type": "code",
   "execution_count": 27,
   "id": "4a2b8c35-3216-42ca-a6d8-2993971591e6",
   "metadata": {},
   "outputs": [
    {
     "name": "stdin",
     "output_type": "stream",
     "text": [
      "enter the number :  0\n"
     ]
    },
    {
     "name": "stdout",
     "output_type": "stream",
     "text": [
      "zero\n"
     ]
    }
   ],
   "source": [
    "num = int(input(\"enter the number : \"))\n",
    "if (num>0):\n",
    "    print(\"positive number\")\n",
    "    num_1 = int(input(\"enter the 7div by numbers\"))\n",
    "    if num_1%7==0:\n",
    "        print(\"div by 7\")\n",
    "    else:\n",
    "        print(\"not div by 7\")\n",
    "elif num<0:\n",
    "    print(\"negitive number\")\n",
    "else:\n",
    "    print(\"zero\")"
   ]
  },
  {
   "cell_type": "code",
   "execution_count": 30,
   "id": "605db6b1-2542-46af-bbca-852638887f0a",
   "metadata": {},
   "outputs": [
    {
     "name": "stdin",
     "output_type": "stream",
     "text": [
      "Enter the number 35\n"
     ]
    },
    {
     "name": "stdout",
     "output_type": "stream",
     "text": [
      "this number is div by 7 and 5\n"
     ]
    }
   ],
   "source": [
    "num = int(input(\"Enter the number\"))\n",
    "if num%7==0 & num%5==0:\n",
    "    print(\"this number is div by 7 and 5\")\n",
    "else:\n",
    "    print(\"not div by 7 and 5\")"
   ]
  },
  {
   "cell_type": "code",
   "execution_count": 40,
   "id": "23bc82aa-18e9-46b2-ba80-e126ed72ee16",
   "metadata": {},
   "outputs": [
    {
     "name": "stdin",
     "output_type": "stream",
     "text": [
      "Enter your course: JFS\n"
     ]
    },
    {
     "name": "stdout",
     "output_type": "stream",
     "text": [
      "7.2%discount FOR JFS\n"
     ]
    }
   ],
   "source": [
    "course = str(input(\"Enter your course:\")).lower()\n",
    "if (course ==\"da\" or course==\"data analyst\"):\n",
    "    print(\"10%discount for DATA ANALYST COURSE\")\n",
    "elif (course  == \"ds\" or course==\"data science\"):\n",
    "    print(\"2%discount for DATA SCIENCE\")\n",
    "elif (course  == \"cloud\" or course==\"aws\"):\n",
    "    print(\"CLOUD FOR 6%DISCOUNT\")\n",
    "elif (course  == \"python full stack\" or course==\"pfs\"):\n",
    "    print(\"7%discount FOR PFS\")\n",
    "elif (course  == \"java full stack\" or course==\"jfs\"):\n",
    "    print(\"7.2%discount FOR JFS\")\n",
    "else:\n",
    "    print(\"we are not provide other course\")"
   ]
  },
  {
   "cell_type": "code",
   "execution_count": 58,
   "id": "05b43c1f-1333-4ab8-88b5-1d0393ca79e9",
   "metadata": {},
   "outputs": [
    {
     "name": "stdin",
     "output_type": "stream",
     "text": [
      "Enter your location: madurai\n",
      "Enter your city: fb\n"
     ]
    },
    {
     "name": "stdout",
     "output_type": "stream",
     "text": [
      "there is no charity\n"
     ]
    }
   ],
   "source": [
    "ch = str(input(\"Enter your location:\")).lower()\n",
    "if ch ==\"chennai\":\n",
    "    city = str(input(\"Enter your city:\")).lower()\n",
    "    if city ==\"gundy\":\n",
    "        print(\"you can donate rice\")\n",
    "    elif city ==\"ashok pillar\" or city ==\"kk.nagar\":\n",
    "        print(\"clothes\")\n",
    "    elif city ==\"tambaram\":\n",
    "        print(\"you can donate books\")\n",
    "    else:\n",
    "        print(\"try tambaram or ashokpillar\")\n",
    "elif ch==\"madurai\":\n",
    "    city = str(input(\"Enter your city:\")).lower()\n",
    "    if city==\"kk.nagar\":\n",
    "          print(\"you can donate 5% of salary\")\n",
    "    elif city == \"periya palayam\":\n",
    "        print(\"you can donate food\")\n",
    "    else:\n",
    "        print(\"there is no charity\")\n",
    "else:\n",
    "    print(\"pls enter chennai or madurai\")"
   ]
  },
  {
   "cell_type": "code",
   "execution_count": 70,
   "id": "9913c049-81ca-472d-adc5-4f784fa2771e",
   "metadata": {},
   "outputs": [
    {
     "name": "stdin",
     "output_type": "stream",
     "text": [
      "PLS ENTER CAR NAMES: tata\n",
      "Enter tata models nexon\n"
     ]
    },
    {
     "name": "stdout",
     "output_type": "stream",
     "text": [
      "10 lakh\n"
     ]
    }
   ],
   "source": [
    "c = str(input(\"PLS ENTER CAR NAMES:\")).lower()\n",
    "if c ==\"ford\":\n",
    "    ford =str(input(\"Enter ford models\"))\n",
    "    if ford ==\"endoor\":\n",
    "        print(\"40 lak\")\n",
    "    elif ford==\"eco sports\":\n",
    "        print(\"14 lakh\")\n",
    "    else:\n",
    "        print(\"pls go to another brands\")\n",
    "elif c==\"tata\":\n",
    "    tata =str(input(\"Enter tata models\"))\n",
    "    if tata==\"nexon\":\n",
    "        print(\"10 lakh\")\n",
    "    elif tata ==\"curve ev\":\n",
    "        print(\"price 12lakh\")\n",
    "    elif tata == \"tiyago\":\n",
    "        print(\"7 lakh\")\n",
    "    else:\n",
    "        print(\"pls go to another brand\")\n",
    "elif c==\"honda\":\n",
    "    honda =str(input(\"Enter ford models\"))\n",
    "    if honda ==\"i20\":\n",
    "        print(\"6 lakh\")\n",
    "    elif honda ==\"creata\":\n",
    "        print(\"12 lakh\")\n",
    "    elif honda ==\"verna\":\n",
    "        print(\"14 lakh\")\n",
    "    else:\n",
    "        print(\"pls go to another brands\")\n",
    "else:\n",
    "    print(\"we do not sell other companies\")"
   ]
  },
  {
   "cell_type": "code",
   "execution_count": null,
   "id": "f6f9cb7e-cba5-42ba-8f6b-c752675be454",
   "metadata": {},
   "outputs": [],
   "source": []
  }
 ],
 "metadata": {
  "kernelspec": {
   "display_name": "Python 3 (ipykernel)",
   "language": "python",
   "name": "python3"
  },
  "language_info": {
   "codemirror_mode": {
    "name": "ipython",
    "version": 3
   },
   "file_extension": ".py",
   "mimetype": "text/x-python",
   "name": "python",
   "nbconvert_exporter": "python",
   "pygments_lexer": "ipython3",
   "version": "3.12.7"
  }
 },
 "nbformat": 4,
 "nbformat_minor": 5
}

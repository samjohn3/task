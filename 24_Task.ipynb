{
 "cells": [
  {
   "cell_type": "code",
   "execution_count": 12,
   "id": "51e4074b-42d4-4f7f-869c-daf1af1618f2",
   "metadata": {},
   "outputs": [
    {
     "name": "stdin",
     "output_type": "stream",
     "text": [
      "Enter your username: SLA\n"
     ]
    },
    {
     "name": "stdout",
     "output_type": "stream",
     "text": [
      "login\n"
     ]
    }
   ],
   "source": [
    "user= str(input(\"Enter your username:\")).lower()\n",
    "if (user==\"sla\") | (user==\"soft logic\"):\n",
    "    print(\"login\")\n",
    "else:\n",
    "    print(\"invalid username\")"
   ]
  },
  {
   "cell_type": "code",
   "execution_count": 15,
   "id": "980abcc8-ade6-4f65-9c6f-9704c77866ba",
   "metadata": {},
   "outputs": [
    {
     "name": "stdin",
     "output_type": "stream",
     "text": [
      "Enter the number 35\n"
     ]
    },
    {
     "name": "stdout",
     "output_type": "stream",
     "text": [
      "yes\n"
     ]
    }
   ],
   "source": [
    "num = int(input(\"Enter the number\"))\n",
    "if (num%5==0) & (num%7==0):\n",
    "    print(\"yes\")\n",
    "else:\n",
    "    print(\"no\")"
   ]
  },
  {
   "cell_type": "code",
   "execution_count": 33,
   "id": "d23ed3dd-b752-4e32-9f6a-745af6b7f5dc",
   "metadata": {},
   "outputs": [
    {
     "name": "stdin",
     "output_type": "stream",
     "text": [
      "Enter the number: 10\n"
     ]
    },
    {
     "name": "stdout",
     "output_type": "stream",
     "text": [
      "positive\n"
     ]
    }
   ],
   "source": [
    "num = int(input(\"Enter the number:\"))\n",
    "if num_1>0:\n",
    "    print(\"positive\")\n",
    "elif num_1<0:\n",
    "    print(\"negitive\")\n",
    "else:\n",
    "    print(\"zero\")"
   ]
  },
  {
   "cell_type": "code",
   "execution_count": 40,
   "id": "5637d907-a15c-4e0a-9eb3-acfba9c7b131",
   "metadata": {},
   "outputs": [
    {
     "name": "stdin",
     "output_type": "stream",
     "text": [
      "Enter the number: 11\n"
     ]
    },
    {
     "name": "stdout",
     "output_type": "stream",
     "text": [
      "yes\n"
     ]
    }
   ],
   "source": [
    "num = int(input(\"Enter the number:\"))\n",
    "if (num%7==0) | (num%11==0):\n",
    "    print(\"yes\")\n",
    "else:\n",
    "    print(\"no\")"
   ]
  },
  {
   "cell_type": "code",
   "execution_count": 63,
   "id": "bf9ab069-6c4a-4d28-8664-6eba74c185bc",
   "metadata": {},
   "outputs": [
    {
     "name": "stdin",
     "output_type": "stream",
     "text": [
      "Enter country Name: india\n"
     ]
    },
    {
     "name": "stdout",
     "output_type": "stream",
     "text": [
      "TAX:25%\n"
     ]
    }
   ],
   "source": [
    "c = str(input(\"Enter country Name:\"))\n",
    "if c ==\"India\".lower():\n",
    "    print(\"TAX:25%\")\n",
    "elif (c==\"england\") | (c==\"uk\"):\n",
    "    print(\"TAX:30%\")\n",
    "elif c==\"dubai\":\n",
    "    print(\"There is no TAX\")\n",
    "else:\n",
    "    print(\"TAX:4%\")"
   ]
  },
  {
   "cell_type": "code",
   "execution_count": 77,
   "id": "624cc0f2-fdd2-45d4-b28b-04bfb2215650",
   "metadata": {},
   "outputs": [
    {
     "name": "stdin",
     "output_type": "stream",
     "text": [
      "Enter number it will give you day: 8\n"
     ]
    },
    {
     "name": "stdout",
     "output_type": "stream",
     "text": [
      "please enter valid day\n"
     ]
    }
   ],
   "source": [
    "user = int(input(\"Enter number it will give you day:\"))\n",
    "if user ==1:\n",
    "    print(\"monday\")\n",
    "elif user ==2:\n",
    "    print(\"tuesday\")\n",
    "elif user ==3:\n",
    "    print(\"wednesday\")\n",
    "elif user ==4:\n",
    "    print(\"thursday\")\n",
    "elif user ==5:\n",
    "    print(\"friday\")\n",
    "elif user ==6:\n",
    "    print(\"saturday\")\n",
    "elif user ==7:\n",
    "    print(\"Sunday\")\n",
    "else:\n",
    "    print(\"please enter valid day\")"
   ]
  },
  {
   "cell_type": "code",
   "execution_count": 13,
   "id": "c36c5dc5-be80-4405-b322-668ea4b2cee4",
   "metadata": {},
   "outputs": [
    {
     "name": "stdin",
     "output_type": "stream",
     "text": [
      "Enter month: july\n"
     ]
    },
    {
     "name": "stdout",
     "output_type": "stream",
     "text": [
      "its 31 days\n"
     ]
    }
   ],
   "source": [
    "month = (input(\"Enter month:\"))\n",
    "if month in [\"jan\",\"march\",\"may\",\"july\",\"aug\",\"oct\",\"dec\"]:\n",
    "    print(\"its 31 days\")\n",
    "elif month==\"feb\":\n",
    "    print(\"28 or 29 days\")\n",
    "else :\n",
    "    print(\"30 days\")"
   ]
  },
  {
   "cell_type": "code",
   "execution_count": 42,
   "id": "08203156-3798-4861-879c-f10f09cb2629",
   "metadata": {},
   "outputs": [
    {
     "name": "stdin",
     "output_type": "stream",
     "text": [
      "Enter the number (1-100) 75\n"
     ]
    },
    {
     "name": "stdout",
     "output_type": "stream",
     "text": [
      "B\n"
     ]
    }
   ],
   "source": [
    "g = int(input(\"Enter the number (1-100)\"))\n",
    "if g>=90:\n",
    "    print(\"A\")\n",
    "elif g>=75 <=89:\n",
    "    print(\"B\")\n",
    "elif g>=60 <=74:\n",
    "    print(\"C\")\n",
    "elif g>=50 <=59:\n",
    "    print(\"D\")\n",
    "elif g>=45 <=49:\n",
    "    print(\"E\")\n",
    "else :\n",
    "    print(\"Fail\")"
   ]
  },
  {
   "cell_type": "code",
   "execution_count": 43,
   "id": "d93eb528-9605-4077-875a-588db834a7ea",
   "metadata": {},
   "outputs": [],
   "source": [
    "# elif in Python stands for \"else if\" and is used to check multiple conditions after an initial if. \n",
    "#It helps control program flow by executing only the first true condition."
   ]
  },
  {
   "cell_type": "code",
   "execution_count": 58,
   "id": "b2ee25de-c21c-4450-b5c3-af237eea801d",
   "metadata": {},
   "outputs": [
    {
     "name": "stdin",
     "output_type": "stream",
     "text": [
      "What course you want: data science\n"
     ]
    },
    {
     "name": "stdout",
     "output_type": "stream",
     "text": [
      "PYTHON , SQL , ML , DL AND AI\n"
     ]
    }
   ],
   "source": [
    "course = str(input(\"What course you want:\"))\n",
    "if course.title() == \"Data Analyst\":\n",
    "    print(\"We offer python , powerbi , sql \")\n",
    "elif course.title() == \"Full Stack\":\n",
    "    print(\"HTML , CSS , JS , JAVA OR PYTHON\")\n",
    "elif course.title() == \"Data Science\":\n",
    "    print(\"PYTHON , SQL , ML , DL AND AI\")\n",
    "else:\n",
    "    print(\"We not offer other courses\")"
   ]
  },
  {
   "cell_type": "code",
   "execution_count": null,
   "id": "c35d2f2c-e607-43f3-b20f-25884f5ddf91",
   "metadata": {},
   "outputs": [],
   "source": []
  }
 ],
 "metadata": {
  "kernelspec": {
   "display_name": "Python 3 (ipykernel)",
   "language": "python",
   "name": "python3"
  },
  "language_info": {
   "codemirror_mode": {
    "name": "ipython",
    "version": 3
   },
   "file_extension": ".py",
   "mimetype": "text/x-python",
   "name": "python",
   "nbconvert_exporter": "python",
   "pygments_lexer": "ipython3",
   "version": "3.12.7"
  }
 },
 "nbformat": 4,
 "nbformat_minor": 5
}

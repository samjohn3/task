{
 "cells": [
  {
   "cell_type": "code",
   "execution_count": 3,
   "id": "74e9e303-2966-4caf-9772-5827e1130bd0",
   "metadata": {},
   "outputs": [],
   "source": [
    "#tuple\n",
    "num = (10,20,30,40,50,\"hello\",3.4,[10,20])"
   ]
  },
  {
   "cell_type": "code",
   "execution_count": 4,
   "id": "19e9b6af-1b4e-43cd-86e0-9f246b4b0c5f",
   "metadata": {},
   "outputs": [
    {
     "data": {
      "text/plain": [
       "(10, 20, 30, 40, 50, 'hello', 3.4, [10, 20])"
      ]
     },
     "execution_count": 4,
     "metadata": {},
     "output_type": "execute_result"
    }
   ],
   "source": [
    "num"
   ]
  },
  {
   "cell_type": "code",
   "execution_count": 5,
   "id": "e7846256-0d33-4116-b2d6-8389a25ba394",
   "metadata": {},
   "outputs": [],
   "source": [
    "#convert tuple --> list\n",
    "num=list(num)"
   ]
  },
  {
   "cell_type": "code",
   "execution_count": 6,
   "id": "bf33a861-6403-4572-9fbb-eeb82c3f45ab",
   "metadata": {},
   "outputs": [
    {
     "data": {
      "text/plain": [
       "[10, 20, 30, 40, 50, 'hello', 3.4, [10, 20]]"
      ]
     },
     "execution_count": 6,
     "metadata": {},
     "output_type": "execute_result"
    }
   ],
   "source": [
    "num"
   ]
  },
  {
   "cell_type": "code",
   "execution_count": 7,
   "id": "4caf3e00-5783-41a2-a9d0-a997b9b23451",
   "metadata": {},
   "outputs": [],
   "source": [
    "num.append(100)"
   ]
  },
  {
   "cell_type": "code",
   "execution_count": 8,
   "id": "6ddc68a6-7271-4361-83f3-6a6de8f9a201",
   "metadata": {},
   "outputs": [
    {
     "data": {
      "text/plain": [
       "[10, 20, 30, 40, 50, 'hello', 3.4, [10, 20], 100]"
      ]
     },
     "execution_count": 8,
     "metadata": {},
     "output_type": "execute_result"
    }
   ],
   "source": [
    "num"
   ]
  },
  {
   "cell_type": "code",
   "execution_count": 9,
   "id": "aa7fef8b-2bf0-4676-9779-2b3444d41384",
   "metadata": {},
   "outputs": [],
   "source": [
    "num=tuple(num)"
   ]
  },
  {
   "cell_type": "code",
   "execution_count": 10,
   "id": "2e28fa51-4a01-4651-aec4-ba05cd312a50",
   "metadata": {},
   "outputs": [
    {
     "data": {
      "text/plain": [
       "(10, 20, 30, 40, 50, 'hello', 3.4, [10, 20], 100)"
      ]
     },
     "execution_count": 10,
     "metadata": {},
     "output_type": "execute_result"
    }
   ],
   "source": [
    "num"
   ]
  },
  {
   "cell_type": "code",
   "execution_count": 33,
   "id": "feeadd9a-bc4c-4a98-8757-9cf4c2cd8841",
   "metadata": {},
   "outputs": [],
   "source": [
    "#set\n",
    "#unordered\n",
    "#dupllicate not allow\n",
    "#not allow list because it is mutable \n",
    "# allow immutable like eg:tuple"
   ]
  },
  {
   "cell_type": "code",
   "execution_count": 34,
   "id": "67540896-1a14-475c-af34-9d805521470c",
   "metadata": {},
   "outputs": [],
   "source": [
    "course = {\"powerbi\",\"ai\",\"ml\",\"sql\",\"powerbi\",90,4.5,(7,6)}"
   ]
  },
  {
   "cell_type": "code",
   "execution_count": 35,
   "id": "ff027fd7-437f-4c7c-80c7-5fc218035c87",
   "metadata": {},
   "outputs": [
    {
     "data": {
      "text/plain": [
       "{(7, 6), 4.5, 90, 'ai', 'ml', 'powerbi', 'sql'}"
      ]
     },
     "execution_count": 35,
     "metadata": {},
     "output_type": "execute_result"
    }
   ],
   "source": [
    "course  # allow immutable -->tuple && avoide mutable -->list"
   ]
  },
  {
   "cell_type": "code",
   "execution_count": 36,
   "id": "a36b0099-3af4-4b7a-86e3-b9bc94633b36",
   "metadata": {},
   "outputs": [
    {
     "ename": "TypeError",
     "evalue": "unhashable type: 'list'",
     "output_type": "error",
     "traceback": [
      "\u001b[1;31m---------------------------------------------------------------------------\u001b[0m",
      "\u001b[1;31mTypeError\u001b[0m                                 Traceback (most recent call last)",
      "Cell \u001b[1;32mIn[36], line 1\u001b[0m\n\u001b[1;32m----> 1\u001b[0m course1\u001b[38;5;241m=\u001b[39m {\u001b[38;5;241m123\u001b[39m,\u001b[38;5;241m34\u001b[39m,[\u001b[38;5;241m11\u001b[39m,\u001b[38;5;241m123\u001b[39m]}\n",
      "\u001b[1;31mTypeError\u001b[0m: unhashable type: 'list'"
     ]
    }
   ],
   "source": [
    "course1= {123,34,[11,123]}"
   ]
  },
  {
   "cell_type": "code",
   "execution_count": 37,
   "id": "2d09d9ac-a190-48bc-b7ed-d76fffb9b28f",
   "metadata": {},
   "outputs": [
    {
     "data": {
      "text/plain": [
       "{34, 123}"
      ]
     },
     "execution_count": 37,
     "metadata": {},
     "output_type": "execute_result"
    }
   ],
   "source": [
    "course1"
   ]
  },
  {
   "cell_type": "code",
   "execution_count": 38,
   "id": "6bb79b1f-0e01-478b-b15b-3fc3bae977f3",
   "metadata": {},
   "outputs": [],
   "source": [
    "course.add(17)"
   ]
  },
  {
   "cell_type": "code",
   "execution_count": 39,
   "id": "6e7052ee-2a8d-47a4-a3d6-b9ce09e0d4f7",
   "metadata": {},
   "outputs": [
    {
     "data": {
      "text/plain": [
       "{(7, 6), 17, 4.5, 90, 'ai', 'ml', 'powerbi', 'sql'}"
      ]
     },
     "execution_count": 39,
     "metadata": {},
     "output_type": "execute_result"
    }
   ],
   "source": [
    "course"
   ]
  },
  {
   "cell_type": "code",
   "execution_count": 40,
   "id": "e137f7dc-1c95-41d0-9993-441af3bd65ea",
   "metadata": {},
   "outputs": [],
   "source": [
    "course.update({23125,334,\"wewg\"})"
   ]
  },
  {
   "cell_type": "code",
   "execution_count": 41,
   "id": "0ce27949-e3ab-42a4-9c2e-0b4b2d437e6c",
   "metadata": {},
   "outputs": [
    {
     "data": {
      "text/plain": [
       "{(7, 6), 17, 23125, 334, 4.5, 90, 'ai', 'ml', 'powerbi', 'sql', 'wewg'}"
      ]
     },
     "execution_count": 41,
     "metadata": {},
     "output_type": "execute_result"
    }
   ],
   "source": [
    "course"
   ]
  },
  {
   "cell_type": "code",
   "execution_count": 42,
   "id": "5baeea83-852f-45f9-97bb-37de4b49c2f6",
   "metadata": {},
   "outputs": [],
   "source": [
    "#remove\n",
    "course.remove(\"ai\")"
   ]
  },
  {
   "cell_type": "code",
   "execution_count": 43,
   "id": "d1afec08-5ce0-4f20-90e2-b08b03b880d0",
   "metadata": {},
   "outputs": [
    {
     "data": {
      "text/plain": [
       "{(7, 6), 17, 23125, 334, 4.5, 90, 'ml', 'powerbi', 'sql', 'wewg'}"
      ]
     },
     "execution_count": 43,
     "metadata": {},
     "output_type": "execute_result"
    }
   ],
   "source": [
    "course"
   ]
  },
  {
   "cell_type": "code",
   "execution_count": 44,
   "id": "e760838e-f5ca-46b0-96d6-1ebd289c9397",
   "metadata": {},
   "outputs": [
    {
     "data": {
      "text/plain": [
       "4.5"
      ]
     },
     "execution_count": 44,
     "metadata": {},
     "output_type": "execute_result"
    }
   ],
   "source": [
    "course.pop()"
   ]
  },
  {
   "cell_type": "code",
   "execution_count": 46,
   "id": "49f9fea1-9472-4a7c-a730-324a2109a971",
   "metadata": {},
   "outputs": [],
   "source": [
    "course.clear()"
   ]
  },
  {
   "cell_type": "code",
   "execution_count": 48,
   "id": "4a8f466b-f9fd-4b6a-83cd-e130da55e970",
   "metadata": {},
   "outputs": [
    {
     "data": {
      "text/plain": [
       "set()"
      ]
     },
     "execution_count": 48,
     "metadata": {},
     "output_type": "execute_result"
    }
   ],
   "source": [
    "course"
   ]
  },
  {
   "cell_type": "code",
   "execution_count": 49,
   "id": "fda144ac-83cb-406c-a22a-3e00fc5e0629",
   "metadata": {},
   "outputs": [
    {
     "data": {
      "text/plain": [
       "['__add__',\n",
       " '__class__',\n",
       " '__class_getitem__',\n",
       " '__contains__',\n",
       " '__delattr__',\n",
       " '__delitem__',\n",
       " '__dir__',\n",
       " '__doc__',\n",
       " '__eq__',\n",
       " '__format__',\n",
       " '__ge__',\n",
       " '__getattribute__',\n",
       " '__getitem__',\n",
       " '__getstate__',\n",
       " '__gt__',\n",
       " '__hash__',\n",
       " '__iadd__',\n",
       " '__imul__',\n",
       " '__init__',\n",
       " '__init_subclass__',\n",
       " '__iter__',\n",
       " '__le__',\n",
       " '__len__',\n",
       " '__lt__',\n",
       " '__mul__',\n",
       " '__ne__',\n",
       " '__new__',\n",
       " '__reduce__',\n",
       " '__reduce_ex__',\n",
       " '__repr__',\n",
       " '__reversed__',\n",
       " '__rmul__',\n",
       " '__setattr__',\n",
       " '__setitem__',\n",
       " '__sizeof__',\n",
       " '__str__',\n",
       " '__subclasshook__',\n",
       " 'append',\n",
       " 'clear',\n",
       " 'copy',\n",
       " 'count',\n",
       " 'extend',\n",
       " 'index',\n",
       " 'insert',\n",
       " 'pop',\n",
       " 'remove',\n",
       " 'reverse',\n",
       " 'sort']"
      ]
     },
     "execution_count": 49,
     "metadata": {},
     "output_type": "execute_result"
    }
   ],
   "source": [
    "dir(list)"
   ]
  },
  {
   "cell_type": "code",
   "execution_count": null,
   "id": "202a69c6-1074-4380-aafc-f81c9198316c",
   "metadata": {},
   "outputs": [],
   "source": []
  }
 ],
 "metadata": {
  "kernelspec": {
   "display_name": "Python 3 (ipykernel)",
   "language": "python",
   "name": "python3"
  },
  "language_info": {
   "codemirror_mode": {
    "name": "ipython",
    "version": 3
   },
   "file_extension": ".py",
   "mimetype": "text/x-python",
   "name": "python",
   "nbconvert_exporter": "python",
   "pygments_lexer": "ipython3",
   "version": "3.12.7"
  }
 },
 "nbformat": 4,
 "nbformat_minor": 5
}
